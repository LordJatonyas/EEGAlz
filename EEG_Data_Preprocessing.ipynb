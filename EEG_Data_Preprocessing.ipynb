{
 "cells": [
  {
   "cell_type": "code",
   "execution_count": 109,
   "metadata": {},
   "outputs": [],
   "source": []
  },
  {
   "cell_type": "code",
   "execution_count": 51,
   "metadata": {},
   "outputs": [],
   "source": [
    "# Check if Dataset exists\n",
    "DATA_FOLDER_PATH = \"../data/\"\n",
    "if not os.path.exists(DATA_FOLDER_PATH):\n",
    "    print(\"Please download the necessary dataset for analysis!\\n\")\n",
    "    print(\"https://openneuro.org/datasets/ds004504/versions/1.0.6\")\n",
    "    print(\"Store each participant's data in .csv format and keep in a folder called data\")"
   ]
  },
  {
   "cell_type": "code",
   "execution_count": 165,
   "metadata": {},
   "outputs": [
    {
     "data": {
      "text/plain": [
       "1025"
      ]
     },
     "execution_count": 165,
     "metadata": {},
     "output_type": "execute_result"
    }
   ],
   "source": [
    "# Initialise Polars Dataframe with First row (to be dropped)\n",
    "df = pl.DataFrame({\"Time\": [0.0000], \n",
    "                   \"Fp1\": [0.0000], \n",
    "                   \"Fp2\": [0.0000],\n",
    "                   \"F3\": [0.0000], \n",
    "                   \"F4\": [0.0000], \n",
    "                   \"C3\": [0.0000], \n",
    "                   \"C4\": [0.0000], \n",
    "                   \"P3\": [0.0000], \n",
    "                   \"P4\": [0.0000], \n",
    "                   \"O1\": [0.0000], \n",
    "                   \"O2\": [0.0000], \n",
    "                   \"F7\": [0.0000], \n",
    "                   \"F8\": [0.0000], \n",
    "                   \"T3\": [0.0000], \n",
    "                   \"T4\": [0.0000], \n",
    "                   \"T5\": [0.0000], \n",
    "                   \"T6\": [0.0000], \n",
    "                   \"Fz\": [0.0000], \n",
    "                   \"Cz\": [0.0000], \n",
    "                   \"Pz\": [0.0000], \n",
    "                   \"Has_AD\": [False],\n",
    "                   })\n",
    "\n",
    "for i in range(1, 66):\n",
    "    df_to_add = pl.read_csv(f\"{DATA_FOLDER_PATH}sub0{i}.csv\")\n",
    "\n",
    "    _, x = signal.welch(df_to_add.select(\"Fp1\"), fs=500, nperseg=2048, noverlap=1024, axis=0, detrend=False)\n",
    "\n",
    "    if i < 30:\n",
    "        df_to_add = df_to_add.select(\n",
    "            pl.all(),\n",
    "            pl.lit(False).alias(\"Has_AD\")\n",
    "        )\n",
    "    else:\n",
    "        df_to_add = df_to_add.select(\n",
    "            pl.all(),\n",
    "            pl.lit(True).alias(\"Has_AD\")\n",
    "        )\n",
    "\n",
    "    df.extend(df_to_add)\n",
    "    break\n",
    "\n",
    "df = df[1:]\n",
    "len(x)"
   ]
  },
  {
   "cell_type": "code",
   "execution_count": null,
   "metadata": {},
   "outputs": [],
   "source": [
    "# We need to stitch the dataset files into 1 entire dataset\n",
    "pl."
   ]
  },
  {
   "cell_type": "code",
   "execution_count": null,
   "metadata": {},
   "outputs": [],
   "source": []
  }
 ],
 "metadata": {
  "kernelspec": {
   "display_name": ".venv",
   "language": "python",
   "name": "python3"
  },
  "language_info": {
   "codemirror_mode": {
    "name": "ipython",
    "version": 3
   },
   "file_extension": ".py",
   "mimetype": "text/x-python",
   "name": "python",
   "nbconvert_exporter": "python",
   "pygments_lexer": "ipython3",
   "version": "3.10.6"
  }
 },
 "nbformat": 4,
 "nbformat_minor": 2
}
